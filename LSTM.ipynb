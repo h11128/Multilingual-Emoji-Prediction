{
 "cells": [
  {
   "cell_type": "code",
   "execution_count": 1,
   "metadata": {},
   "outputs": [],
   "source": [
    "import pandas as pd\n",
    "import numpy as np\n",
    "import pickle"
   ]
  },
  {
   "cell_type": "code",
   "execution_count": 207,
   "metadata": {},
   "outputs": [],
   "source": [
    "# Training tweets as arrays\n",
    "with open(\"train/data/tweet_by_ID_02_12_2019__10_46_39.txt.text\") as tr_twt:\n",
    "    train_tweets = tr_twt.readlines()\n",
    "# training labels\n",
    "with open(\"train/data/tweet_by_ID_02_12_2019__10_46_39.txt.labels\", \"r\") as tr_labels:\n",
    "    train_labels = tr_labels.readlines()\n",
    "with open(\"test/us_test.text\") as t:\n",
    "    test_tweets = t.readlines()\n",
    "# test labels\n",
    "with open(\"test/us_test.labels\", \"r\") as tl:\n",
    "    test_labels = tl.readlines()"
   ]
  },
  {
   "cell_type": "code",
   "execution_count": 50,
   "metadata": {},
   "outputs": [],
   "source": [
    "from sklearn.feature_extraction.text import CountVectorizer\n",
    "vectorizer = CountVectorizer()\n",
    "vect = vectorizer.fit_transform(train_tweets)"
   ]
  },
  {
   "cell_type": "code",
   "execution_count": 72,
   "metadata": {},
   "outputs": [
    {
     "name": "stdout",
     "output_type": "stream",
     "text": [
      "(437161, 275935)\n",
      "[145742, 255376, 264473, 255376, 42139]\n",
      "tensor([145742, 255376, 264473, 255376,  42139])\n"
     ]
    }
   ],
   "source": [
    "print(vect.shape)\n",
    "a = vectorizer.vocabulary_\n",
    "test = train_tweets[0]\n",
    "tens = []\n",
    "for word in test.split():\n",
    "    try:\n",
    "        tens.append([a[word.lower()]])\n",
    "    except:\n",
    "        tens.append([a['unk']])\n",
    "tens = [x[0] for x in tens]\n",
    "print(tens)\n",
    "test = torch.tensor(tens, dtype=torch.long)\n",
    "print(test)"
   ]
  },
  {
   "cell_type": "code",
   "execution_count": 12,
   "metadata": {},
   "outputs": [],
   "source": [
    "import torch\n",
    "import torch.nn as nn\n",
    "import torch.nn.functional as F\n",
    "import torch.optim as optim"
   ]
  },
  {
   "cell_type": "code",
   "execution_count": 13,
   "metadata": {},
   "outputs": [],
   "source": [
    "def Eval_LSTM(X, Y, lstm):\n",
    "    with open(\"predictions.txt\", \"w\") as f:\n",
    "        num_correct = 0\n",
    "        for i in range(len(X)):\n",
    "            logProbs = lstm.forward(X[i], train=False)\n",
    "            pred = torch.argmax(logProbs)\n",
    "            f.write(str(pred.item()))\n",
    "            f.write(\"\\n\")\n",
    "            if pred == int(Y[i]):\n",
    "                num_correct += 1\n",
    "        print(\"Accuracy: %s\" % (float(num_correct) / float(len(X))))"
   ]
  },
  {
   "cell_type": "code",
   "execution_count": 196,
   "metadata": {},
   "outputs": [],
   "source": [
    "class LSTM(nn.Module):\n",
    "    def __init__(self, X, Y,NUM_CLASSES=20):\n",
    "        super(LSTM, self).__init__()\n",
    "        self.Embedding = nn.Embedding(275935, 10)\n",
    "        self.lstm = nn.LSTM(10,20)\n",
    "        self.Relu = nn.ReLU()\n",
    "        self.hidden = (torch.randn(1, 1, 20),\n",
    "                  torch.randn(1, 1, 20))\n",
    "        \n",
    "        nn.init.xavier_uniform_(self.Embedding.weight)\n",
    "\n",
    "    def forward(self, X, vocab, train=False):\n",
    "        #TODO: Implement forward computation\n",
    "        tens = []\n",
    "        sen_len = len(X.split())\n",
    "        for word in X.split():\n",
    "            try:\n",
    "                tens.append([a[word.lower()]])\n",
    "            except:\n",
    "                tens.append([a['unk']])\n",
    "        tens = [x[0] for x in tens]\n",
    "        X = torch.tensor(tens, dtype=torch.long)\n",
    "        #X = X.view(1,1,-1).long()\n",
    "        X = self.Relu(torch.sum(self.Embedding(X), dim = 0))\n",
    "        X = X.unsqueeze(0)\n",
    "        X = X.unsqueeze(0)\n",
    "        out, self.hidden = self.lstm(X, self.hidden)\n",
    "        return out"
   ]
  },
  {
   "cell_type": "code",
   "execution_count": 203,
   "metadata": {},
   "outputs": [],
   "source": [
    "def Train_LSTM(X, vocab, Y, n_iter):\n",
    "    print(\"Start Training!\")\n",
    "    lstm = LSTM(X,vocab, Y)\n",
    "    #TODO: initialize optimizer.\n",
    "    #optimizer = optim.SGD(mlp.parameters(), lr=.01)\n",
    "    optimizer = optim.Adam(lstm.parameters(), lr=1e-4)\n",
    "    Loss = torch.nn.CrossEntropyLoss()\n",
    "\n",
    "    for epoch in range(n_iter):\n",
    "        total_loss = 0.0\n",
    "        for i in range(len(X)):\n",
    "            if i % 100000 == 0:\n",
    "                print(i)\n",
    "            #TODO: compute gradients, do parameter update, compute loss.\n",
    "            lstm.zero_grad()\n",
    "            probs = lstm.forward(X[i], vocab)\n",
    "            probs = probs.squeeze(0)\n",
    "            y = float(Y[i])\n",
    "            loss = Loss(probs,torch.Tensor([y]).long())\n",
    "            total_loss += loss\n",
    "            loss.backward(retain_graph=True)\n",
    "            lstm.hidden[0].detach_()\n",
    "            lstm.hidden[1].detach_()\n",
    "            optimizer.step()\n",
    "            \n",
    "        print(f\"loss on epoch {epoch} = {total_loss}\")\n",
    "    return lstm"
   ]
  },
  {
   "cell_type": "code",
   "execution_count": null,
   "metadata": {},
   "outputs": [
    {
     "name": "stdout",
     "output_type": "stream",
     "text": [
      "Start Training!\n",
      "0\n",
      "100000\n",
      "200000\n",
      "300000\n",
      "400000\n",
      "loss on epoch 0 = 1178514.375\n",
      "0\n",
      "100000\n",
      "200000\n",
      "300000\n",
      "400000\n",
      "loss on epoch 1 = 1158411.375\n",
      "0\n",
      "100000\n",
      "200000\n",
      "300000\n",
      "400000\n",
      "loss on epoch 2 = 1150305.125\n",
      "0\n",
      "100000\n",
      "200000\n",
      "300000\n",
      "400000\n",
      "loss on epoch 3 = 1145241.75\n",
      "0\n",
      "100000\n"
     ]
    }
   ],
   "source": [
    "#train_tensor = torch.from_numpy(np.array(train_tweets))\n",
    "lstm = Train_LSTM(train_tweets, vectorizer.vocabulary_, train_labels, 5)"
   ]
  },
  {
   "cell_type": "code",
   "execution_count": 208,
   "metadata": {},
   "outputs": [
    {
     "ename": "NameError",
     "evalue": "name 'lstm' is not defined",
     "output_type": "error",
     "traceback": [
      "\u001b[0;31m---------------------------------------------------------------------------\u001b[0m",
      "\u001b[0;31mNameError\u001b[0m                                 Traceback (most recent call last)",
      "\u001b[0;32m<ipython-input-208-962f3777c1a2>\u001b[0m in \u001b[0;36m<module>\u001b[0;34m\u001b[0m\n\u001b[1;32m      1\u001b[0m \u001b[0;31m#X_test = torch.from_numpy(test_twts)\u001b[0m\u001b[0;34m\u001b[0m\u001b[0;34m\u001b[0m\u001b[0;34m\u001b[0m\u001b[0m\n\u001b[0;32m----> 2\u001b[0;31m \u001b[0mEval_LSTM\u001b[0m\u001b[0;34m(\u001b[0m\u001b[0mtest_tweets\u001b[0m\u001b[0;34m,\u001b[0m \u001b[0mtest_labels\u001b[0m\u001b[0;34m,\u001b[0m \u001b[0mlstm\u001b[0m\u001b[0;34m)\u001b[0m\u001b[0;34m\u001b[0m\u001b[0;34m\u001b[0m\u001b[0m\n\u001b[0m",
      "\u001b[0;31mNameError\u001b[0m: name 'lstm' is not defined"
     ]
    }
   ],
   "source": [
    "#X_test = torch.from_numpy(test_twts)\n",
    "Eval_LSTM(test_tweets, test_labels, lstm)"
   ]
  },
  {
   "cell_type": "code",
   "execution_count": null,
   "metadata": {},
   "outputs": [],
   "source": [
    "loss on epoch 0 = 1159363.375\n",
    "loss on epoch 1 = 1121209.25\n",
    "loss on epoch 2 = 1109531.375\n",
    "loss on epoch 3 = 1103173.875\n",
    "loss on epoch 4 = 1098848.625\n",
    "loss on epoch 5 = 1095612.875\n",
    "loss on epoch 6 = 1092917.75\n",
    "loss on epoch 7 = 1090395.125\n",
    "loss on epoch 8 = 1088438.875\n",
    "loss on epoch 9 = 1086809.125\n",
    "loss on epoch 10 = 1085420.75\n",
    "loss on epoch 11 = 1084237.125\n",
    "loss on epoch 12 = 1083184.75\n",
    "loss on epoch 13 = 1082234.0\n",
    "loss on epoch 14 = 1081408.375\n",
    "loss on epoch 15 = 1080632.125\n",
    "loss on epoch 16 = 1079940.5\n",
    "loss on epoch 17 = 1079288.0\n",
    "loss on epoch 18 = 1078705.25\n",
    "loss on epoch 19 = 1078166.75\n",
    "loss on epoch 20 = 1077661.75\n",
    "loss on epoch 21 = 1077190.125\n",
    "loss on epoch 22 = 1076737.75\n",
    "loss on epoch 23 = 1076340.625\n",
    "loss on epoch 24 = 1075950.75"
   ]
  },
  {
   "cell_type": "code",
   "execution_count": null,
   "metadata": {},
   "outputs": [],
   "source": []
  },
  {
   "cell_type": "code",
   "execution_count": null,
   "metadata": {},
   "outputs": [],
   "source": []
  }
 ],
 "metadata": {
  "kernelspec": {
   "display_name": "Python 3",
   "language": "python",
   "name": "python3"
  },
  "language_info": {
   "codemirror_mode": {
    "name": "ipython",
    "version": 3
   },
   "file_extension": ".py",
   "mimetype": "text/x-python",
   "name": "python",
   "nbconvert_exporter": "python",
   "pygments_lexer": "ipython3",
   "version": "3.7.2"
  }
 },
 "nbformat": 4,
 "nbformat_minor": 2
}
