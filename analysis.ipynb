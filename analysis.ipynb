{
 "cells": [
  {
   "cell_type": "code",
   "execution_count": 27,
   "metadata": {},
   "outputs": [],
   "source": [
    "# -*- coding: utf-8 -*-\n",
    "from codecs import open\n",
    "import sys\n",
    "\n",
    "import sklearn\n",
    "import pandas as pd\n",
    "import numpy as np\n",
    "import seaborn as sns \n",
    "from scipy import stats\n",
    "import matplotlib\n",
    "matplotlib.use(\"module://mplcairo.qt\")\n",
    "import matplotlib.pyplot as plt\n",
    "from matplotlib.font_manager import FontProperties\n",
    "def f1(precision,recall):\n",
    "    return (2.0*precision*recall)/(precision+recall)\n",
    "\n",
    "def main(path_goldstandard, path_outputfile):\n",
    "\n",
    "    truth_dict={}\n",
    "    output_dict_correct={}\n",
    "    output_dict_attempted={}\n",
    "    predicted = {}\n",
    "    truth_file_lines=open(path_goldstandard,encoding='utf8').readlines()\n",
    "    submission_file_lines=open(path_outputfile,encoding='utf8').readlines()\n",
    "    if len(submission_file_lines)!=len(truth_file_lines): sys.exit('ERROR: Number of lines in gold and output files differ')\n",
    "    or_distribution = [0 for _ in range(20)]\n",
    "    pr_distribution = [0 for _ in range(20)]\n",
    "    for i in range(20):\n",
    "        predicted[i] = [0 for _ in range(20)]\n",
    "    for i in range(len(submission_file_lines)):\n",
    "        line = submission_file_lines[i]\n",
    "        emoji_code_gold = truth_file_lines[i]\n",
    "        emoji_code_output=int(submission_file_lines[i].replace(\"\\n\",\"\"))\n",
    "        emoji_code_gold=int(truth_file_lines[i].replace(\"\\n\",\"\"))\n",
    "\n",
    "        or_distribution[emoji_code_gold] += 1\n",
    "        pr_distribution[emoji_code_output] += 1\n",
    "        \n",
    "        predicted[emoji_code_gold][emoji_code_output] += 1\n",
    "    \"\"\"\n",
    "    for i in range(len(predicted)):\n",
    "        total = sum(predicted[i])\n",
    "        for j in range(len(predicted)):\n",
    "            predicted[i][j] = str(round(predicted[i][j]/total*100,3)) + \"%\"\n",
    "    \"\"\"\n",
    "    return predicted, or_distribution, pr_distribution\n"
   ]
  },
  {
   "cell_type": "code",
   "execution_count": 13,
   "metadata": {},
   "outputs": [
    {
     "name": "stdout",
     "output_type": "stream",
     "text": [
      "{0: [9063, 263, 709, 34, 171, 25, 26, 52, 0, 1, 156, 36, 109, 0, 7, 17, 0, 127, 2, 0], 1: [3644, 283, 519, 3, 112, 8, 16, 44, 0, 0, 93, 13, 49, 0, 3, 1, 0, 42, 0, 0], 2: [1666, 100, 2370, 0, 140, 9, 32, 12, 0, 0, 103, 21, 35, 0, 5, 8, 0, 33, 0, 0], 3: [2234, 60, 143, 11, 37, 3, 5, 21, 0, 0, 40, 4, 23, 0, 1, 3, 0, 20, 0, 0], 4: [1370, 98, 737, 0, 1167, 12, 21, 50, 0, 1, 155, 20, 41, 0, 4, 24, 0, 12, 4, 0], 5: [1125, 71, 225, 1, 34, 29, 16, 12, 0, 0, 28, 5, 41, 0, 5, 3, 0, 18, 0, 0], 6: [1075, 67, 427, 1, 147, 27, 37, 27, 0, 0, 53, 12, 90, 0, 5, 10, 0, 15, 3, 0], 7: [1824, 84, 273, 2, 139, 19, 11, 164, 0, 1, 101, 16, 36, 0, 5, 23, 0, 50, 1, 0], 8: [1293, 34, 114, 3, 25, 5, 4, 15, 0, 0, 18, 7, 21, 0, 0, 2, 0, 7, 1, 0], 9: [913, 32, 115, 6, 33, 7, 4, 7, 0, 1, 17, 5, 16, 0, 3, 2, 0, 14, 0, 0], 10: [513, 22, 169, 0, 62, 4, 6, 16, 0, 0, 598, 4, 13, 0, 2, 6, 0, 14, 3, 0], 11: [1399, 36, 137, 2, 64, 7, 11, 15, 0, 0, 48, 164, 43, 0, 3, 5, 0, 14, 1, 0], 12: [747, 33, 97, 2, 33, 9, 16, 20, 0, 0, 31, 5, 266, 0, 1, 1, 0, 4, 0, 0], 13: [919, 38, 66, 3, 30, 2, 2, 10, 0, 0, 16, 8, 13, 0, 2, 1, 0, 4, 0, 0], 14: [683, 52, 397, 0, 34, 14, 19, 26, 0, 0, 27, 5, 19, 0, 8, 8, 0, 11, 3, 0], 15: [641, 14, 333, 0, 127, 6, 11, 10, 0, 0, 35, 7, 13, 0, 2, 43, 0, 2, 0, 0], 16: [667, 53, 283, 0, 43, 17, 9, 12, 0, 2, 25, 6, 11, 0, 2, 2, 0, 20, 1, 0], 17: [608, 25, 80, 0, 14, 8, 1, 22, 0, 0, 15, 4, 11, 0, 2, 0, 0, 755, 0, 0], 18: [782, 39, 303, 0, 136, 7, 6, 27, 0, 0, 1051, 10, 22, 0, 5, 12, 0, 10, 7, 0], 19: [495, 36, 349, 0, 47, 7, 9, 8, 0, 1, 14, 8, 13, 0, 5, 9, 0, 9, 0, 0]}\n",
      "50000\n"
     ]
    }
   ],
   "source": [
    "path_goldstandard = \"gold.labels\"\n",
    "path_outputfile = \"predictions.txt\"\n",
    "predicted_distribution, or_distribution, pr_distribution = main(path_goldstandard, path_outputfile)\n",
    "print(predicted_distribution)\n",
    "print(sum(or_distribution))"
   ]
  },
  {
   "cell_type": "code",
   "execution_count": 14,
   "metadata": {},
   "outputs": [
    {
     "name": "stdout",
     "output_type": "stream",
     "text": [
      "{0: ['❤', '_red_heart_'], 1: ['😍', '_smiling_face_with_hearteyes_'], 2: ['😂', '_face_with_tears_of_joy_'], 3: ['💕', '_two_hearts_'], 4: ['🔥', '_fire_'], 5: ['😊', '_smiling_face_with_smiling_eyes_'], 6: ['😎', '_smiling_face_with_sunglasses_'], 7: ['✨', '_sparkles_'], 8: ['💙', '_blue_heart_'], 9: ['😘', '_face_blowing_a_kiss_'], 10: ['📷', '_camera_'], 11: ['🇺🇸', '_United_States_'], 12: ['☀', '_sun_'], 13: ['💜', '_purple_heart_'], 14: ['😉', '_winking_face_'], 15: ['💯', '_hundred_points_'], 16: ['😁', '_beaming_face_with_smiling_eyes_'], 17: ['🎄', '_Christmas_tree_'], 18: ['📸', '_camera_with_flash_'], 19: ['😜', '_winking_face_with_tongue_']}\n",
      "['❤', '😍', '😂', '💕', '🔥', '😊', '😎', '✨', '💙', '😘', '📷', '🇺🇸', '☀', '💜', '😉', '💯', '😁', '🎄', '📸', '😜']\n"
     ]
    }
   ],
   "source": [
    "mapping_lines=open(\"us_mapping.txt\",encoding='utf8').readlines()\n",
    "mapping  = {}\n",
    "emoji = []\n",
    "emoji_text = []\n",
    "for line in mapping_lines:\n",
    "    temp = line.strip(\"\\n\").strip(\" \").strip(\"_\").split(\"\\t\")\n",
    "    mapping[int(temp[0])] = [temp[1], temp[2]]\n",
    "print(mapping)\n",
    "\n",
    "for i in range(len(mapping)):\n",
    "    emoji.append(mapping[i][0])\n",
    "    emoji_text.append(mapping[i][1])\n",
    "print(emoji)"
   ]
  },
  {
   "cell_type": "code",
   "execution_count": 15,
   "metadata": {},
   "outputs": [],
   "source": [
    "\n",
    "\n",
    "font_path = matplotlib.font_manager.findSystemFonts(fontpaths=None, fontext='ttf')\n",
    "path = \"\"\n",
    "for i in font_path:\n",
    "    if \"seguiemj\" in i:\n",
    "        path = i\n",
    "\n",
    "myfont = FontProperties(fname=path,size=15)\n",
    "flist = [f.name for f in matplotlib.font_manager.fontManager.ttflist]\n",
    "font = matplotlib.font_manager.FontProperties(family='Segoe UI Emoji')\n",
    "file = matplotlib.font_manager.findfont(font)"
   ]
  },
  {
   "cell_type": "code",
   "execution_count": 21,
   "metadata": {},
   "outputs": [],
   "source": [
    "'''Function for displaying histogram of variable.'''\n",
    "def histo(variable, x_name, y_name, title, labels, savename):\n",
    "    plt.rcParams['figure.figsize'] = (8, 5)\n",
    "    plt.rc('font', family='Segoe UI Emoji')\n",
    "    fig, ax = plt.subplots()\n",
    "\n",
    "    bar = ax.bar(x=np.arange(len(variable)), \n",
    "            height=variable,\n",
    "            tick_label=emoji\n",
    "    )\n",
    "    prop = FontProperties(fname=file)\n",
    "    ax.set_xticklabels(emoji, fontproperties=prop, fontsize = 30)\n",
    "    # Make the chart fill out the figure better.\n",
    "    \n",
    "    \n",
    "    plt.xlabel('%s' %x_name, fontsize=18)\n",
    "    plt.ylabel('%s' %y_name, fontsize=18)\n",
    "    plt.title('%s' %title, fontsize=35)\n",
    "    \n",
    "    plt.grid(True)\n",
    "    for rect1, label in zip(bar, labels):\n",
    "        height = rect1.get_height()\n",
    "        plt.annotate(\n",
    "            str(rect1.get_height()),\n",
    "            (rect1.get_x() + rect1.get_width()/2, height+5),\n",
    "            ha=\"center\",\n",
    "            va=\"bottom\",\n",
    "            fontsize=15,\n",
    "            fontproperties=prop\n",
    "        )\n",
    "    \n",
    "    plt.tight_layout()\n",
    "    #plt.savefig(savename, bbox_inches='tight')\n",
    "    plt.show()\n",
    "    \n",
    "    return bar\n",
    "from IPython.display import set_matplotlib_formats\n",
    "set_matplotlib_formats('retina', quality=100)"
   ]
  },
  {
   "cell_type": "markdown",
   "metadata": {},
   "source": [
    "# Actual Label Distribution in the testset "
   ]
  },
  {
   "cell_type": "code",
   "execution_count": 22,
   "metadata": {},
   "outputs": [],
   "source": [
    "bar = histo(or_distribution, \"emoji\", \"# of tweets\", \"Actual Emoji Distribution\", emoji, \"emojis.png\")"
   ]
  },
  {
   "cell_type": "markdown",
   "metadata": {},
   "source": [
    "<img src=\"emojis.png\">\n",
    "There are totally 20 labels and 50k tweets. The Label distribution shows that the top 5 highest number of emojis are red_heart❤ 10798, smiling_face_with_hearteyes 😍 4830, face_with_tears_of_joy😂 4534, fire🔥 3716, sparkles✨ 2749. The least used 3 emojis are face_blowing_a_kiss😘 1175, purple_heart💜 1114, winking_face_with_tongue😜 1010.\n",
    "\n",
    "# Prediction distribution"
   ]
  },
  {
   "cell_type": "code",
   "execution_count": 30,
   "metadata": {},
   "outputs": [],
   "source": [
    "bar = histo(pr_distribution, \"emoji\", \"# of tweets\",\"Predicted Emoji Distribution\", emoji, \"pemojis.png\")"
   ]
  },
  {
   "cell_type": "markdown",
   "metadata": {},
   "source": [
    "<img src=\"pemojis.png\">"
   ]
  },
  {
   "cell_type": "code",
   "execution_count": 23,
   "metadata": {},
   "outputs": [],
   "source": [
    "def Pie(labels, sizes, index):\n",
    "    \n",
    "    prop = FontProperties(fname=file)\n",
    "    colors = ['gold', 'yellowgreen', 'lightcoral', 'lightskyblue']\n",
    "    explode = [0 for _ in range(20)]  # explode 1st slice\n",
    "    explode[index] = 1\n",
    "    sorted_index = sorted(range(len(sizes)), key=sizes.__getitem__)[len(sizes)-5:len(sizes)]\n",
    "    print(sorted_index)\n",
    "    for i in sorted_index:\n",
    "        explode[i] = 0.5\n",
    "    explode = tuple(explode)\n",
    "    print(explode)\n",
    "    # Plot\n",
    "    patches, labelss, autopct = plt.pie(sizes, explode=explode, labels=labels, autopct='%1.2f%%', shadow=True,   textprops={'fontsize': 14, 'fontproperties':prop})\n",
    "    for lab in labelss:\n",
    "        lab.set_fontsize(10)\n",
    "    plt.legend(patches, labels, loc=\"best\", prop=prop, fontsize = 30)\n",
    "    plt.axis('equal')\n",
    "    plt.show()"
   ]
  },
  {
   "cell_type": "code",
   "execution_count": 28,
   "metadata": {},
   "outputs": [
    {
     "name": "stdout",
     "output_type": "stream",
     "text": [
      "[1, 12, 4, 2, 0]\n",
      "(0.5, 0.5, 0.5, 0, 0.5, 0, 1, 0, 0, 0, 0, 0, 0.5, 0, 0, 0, 0, 0, 0, 0)\n"
     ]
    }
   ],
   "source": [
    "\n",
    "Pie(emoji, predicted_distribution[6], 6)"
   ]
  },
  {
   "cell_type": "code",
   "execution_count": 51,
   "metadata": {},
   "outputs": [],
   "source": [
    "import math\n",
    "def Donut(labels, sizes, index):\n",
    "    title = \"Predicted Distribution over tweets with acutal emoji \" + labels[i]\n",
    "    fig, ax = plt.subplots(figsize=(8, 8), subplot_kw=dict(aspect=\"equal\"))\n",
    "    explode = [0 for _ in range(20)]  # explode 1st slice\n",
    "    explode[index] = 0.3\n",
    "    explode = tuple(explode)\n",
    "    prop = FontProperties(fname=file)\n",
    "    patches, labelss, autopct = ax.pie(sizes, labels=labels, wedgeprops=dict(width=0.4), autopct='%1.2f%%', startangle=40, explode=explode, \n",
    "                           textprops={'fontsize': 30, 'fontproperties':prop})\n",
    "    sorted_index = sorted(range(len(sizes)), key=sizes.__getitem__)[len(sizes)-10:len(sizes)]\n",
    "    #print(sorted_index)\n",
    "    \n",
    "    for lab, value in zip(labelss,autopct):\n",
    "        #print(lab)\n",
    "        \n",
    "        label_index = labels.index(lab.get_text())\n",
    "        percent = float(value.get_text().strip(\"%\"))\n",
    "        if (label_index in sorted_index and percent >1) or label_index == index:\n",
    "            lab.set_fontsize(15)\n",
    "        else:\n",
    "            lab.set_text(\" \")\n",
    "            value.set_text(\" \")\n",
    "    plt.title('%s' %title, fontsize=15)\n",
    "    plt.tight_layout()\n",
    "    plt.show()\n",
    "    plt.savefig(\"Figure_%d.png\"%(index+1))\n",
    "    plt.close()\n",
    "    "
   ]
  },
  {
   "cell_type": "code",
   "execution_count": 32,
   "metadata": {},
   "outputs": [],
   "source": [
    "i = 0\n",
    "Donut(emoji, predicted_distribution[i], i)"
   ]
  },
  {
   "cell_type": "markdown",
   "metadata": {},
   "source": [
    "<img src=\"Figure_1.png\">\n",
    "<img src=\"Figure_2.png\">\n",
    "<img src=\"Figure_3.png\">\n",
    "<img src=\"Figure_4.png\">\n",
    "<img src=\"Figure_5.png\">\n",
    "<img src=\"Figure_6.png\">\n",
    "<img src=\"Figure_7.png\">\n",
    "<img src=\"Figure_8.png\">\n",
    "<img src=\"Figure_9.png\">\n",
    "<img src=\"Figure_10.png\">\n",
    "<img src=\"Figure_11.png\">\n",
    "<img src=\"Figure_12.png\">\n",
    "<img src=\"Figure_13.png\">\n",
    "<img src=\"Figure_14.png\">\n",
    "<img src=\"Figure_15.png\">\n",
    "<img src=\"Figure_16.png\">\n",
    "<img src=\"Figure_17.png\">\n",
    "<img src=\"Figure_18.png\">\n",
    "<img src=\"Figure_19.png\">\n",
    "<img src=\"Figure_20.png\">"
   ]
  },
  {
   "cell_type": "markdown",
   "metadata": {},
   "source": [
    "# Analysis\n",
    "\n",
    "## Obeservation:\n",
    "❤ have 83.932% predicted correctly  \n",
    "😍 have 5.859% predicted correctly  \n",
    "😂 have 52.272% predicted correctly  \n",
    "💕 have 0.422% predicted correctly  \n",
    "🔥 have 31.405% predicted correctly  \n",
    "😊 have 1.798% predicted correctly  \n",
    "😎 have 1.854% predicted correctly  \n",
    "✨ have 5.966% predicted correctly  \n",
    "💙 have 0.0% predicted correctly  \n",
    "😘 have 0.085% predicted correctly  \n",
    "📷 have 41.76% predicted correctly  \n",
    "🇺🇸 have 8.415% predicted correctly  \n",
    "☀ have 21.028% predicted correctly  \n",
    "💜 have 0.0% predicted correctly  \n",
    "😉 have 0.613% predicted correctly  \n",
    "💯 have 3.457% predicted correctly  \n",
    "😁 have 0.0% predicted correctly  \n",
    "🎄 have 48.867% predicted correctly  \n",
    "📸 have 0.29% predicted correctly  \n",
    "😜 have 0.0% predicted correctly  \n",
    "\n",
    "For each tweets no matter what emoji at least 30% probability to predict ❤.  \n",
    "\n",
    "For red heart, blue_heart, purple_heart, double_heart, face_blowing_a_kiss, United_Status which are ❤,💕,💙,💜,😘,🇺🇸 mainly predict ❤ (at least 80 percent, while 🇺🇸 have 8 percent predict right)\n",
    "\n",
    "For each tweets 😂 is the second emoji that the model tends to predict unconditionally. Especially the model tends to always predict tweets with actual emoji 😜,😁,😉,😘 to 😂 except the effect of ❤\n",
    "\n",
    "😍 have 5.859% predicted correctly which is second highest accuracy among face emojis. \n",
    "\n",
    "For tweets have emoji 📸, the model always predict 📷\n",
    "\n",
    "📷,🎄,🔥,☀ have some higher accuracy (more than 20%), while ✨,🇺🇸,💯 have relatively low accuracy\n",
    "\n",
    "## Reasoning:\n",
    "\n",
    "The model cares too much about the frequency of emojis.\n",
    "\n",
    "There are no too much context difference between emojis like 💕,💙,💜,😘 with ❤  \n",
    "\n",
    "There are no too much context difference between emojis like 😜,😁,😉,😘 with 😂, maybe because they all have meaning like joy, happy, laughin\n",
    "\n",
    "There are no context difference between 📸 and 📷. People only use the two emoji interchangeablely. Nearly no tweets shows the difference.\n",
    "\n",
    "📷,🎄,🔥,☀ have its special meaning which is shown in the context with some keywords maybe, while ✨,🇺🇸,💯 don't have strong keywords to show the difference."
   ]
  },
  {
   "cell_type": "code",
   "execution_count": null,
   "metadata": {},
   "outputs": [],
   "source": []
  }
 ],
 "metadata": {
  "kernelspec": {
   "display_name": "Python 3",
   "language": "python",
   "name": "python3"
  },
  "language_info": {
   "codemirror_mode": {
    "name": "ipython",
    "version": 3
   },
   "file_extension": ".py",
   "mimetype": "text/x-python",
   "name": "python",
   "nbconvert_exporter": "python",
   "pygments_lexer": "ipython3",
   "version": "3.7.4"
  }
 },
 "nbformat": 4,
 "nbformat_minor": 2
}
