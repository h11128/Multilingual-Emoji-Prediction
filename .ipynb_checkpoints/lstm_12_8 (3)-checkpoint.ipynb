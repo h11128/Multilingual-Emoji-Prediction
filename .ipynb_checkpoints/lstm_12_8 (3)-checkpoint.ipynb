{
 "cells": [
  {
   "cell_type": "code",
   "execution_count": 1,
   "metadata": {},
   "outputs": [],
   "source": [
    "import pandas as pd\n",
    "import numpy as np\n",
    "import pickle"
   ]
  },
  {
   "cell_type": "code",
   "execution_count": 2,
   "metadata": {},
   "outputs": [],
   "source": [
    "# Training tweets as arrays\n",
    "with open(\"train_0_100000.obj\", \"rb\") as tr1:\n",
    "    train_0 = pickle.load(tr1)\n",
    "with open(\"train_100000_200000.obj\", \"rb\") as tr2:\n",
    "    train_1 = pickle.load(tr2)\n",
    "with open(\"train_200000_300000.obj\", \"rb\") as tr3:\n",
    "    train_2 = pickle.load(tr3)\n",
    "with open(\"train_300000_400000.obj\", \"rb\") as tr4:\n",
    "    train_3 = pickle.load(tr4)\n",
    "with open(\"train_400000_end.obj\", \"rb\") as tr5:\n",
    "    train_4 = pickle.load(tr5)\n",
    "# training labels\n",
    "with open(\"train/data/tweet_by_ID_02_12_2019__10_46_39.txt.labels\", \"r\") as tr_labels:\n",
    "    train_labels = tr_labels.readlines()\n",
    "# Test tweets as arrays\n",
    "with open(\"test.obj\", \"rb\") as test_tweets:\n",
    "    test_twts = pickle.load(test_tweets)\n",
    "# test labels\n",
    "with open(\"test/us_test.labels\", \"r\") as tl:\n",
    "    test_labels = tl.readlines()"
   ]
  },
  {
   "cell_type": "code",
   "execution_count": 3,
   "metadata": {},
   "outputs": [
    {
     "name": "stdout",
     "output_type": "stream",
     "text": [
      "(437161, 1024)\n"
     ]
    }
   ],
   "source": [
    "train_whole = np.array([])\n",
    "train_whole = np.append(train_whole, train_0)\n",
    "train_whole = np.append(train_whole, train_1)\n",
    "train_whole = np.append(train_whole, train_2)\n",
    "train_whole = np.append(train_whole, train_3)\n",
    "train_whole = np.append(train_whole, train_4)\n",
    "train_whole = np.reshape(train_whole, (437161,1024))\n",
    "print(train_whole.shape)"
   ]
  },
  {
   "cell_type": "code",
   "execution_count": null,
   "metadata": {},
   "outputs": [],
   "source": []
  },
  {
   "cell_type": "code",
   "execution_count": 4,
   "metadata": {},
   "outputs": [],
   "source": [
    "import torch\n",
    "import torch.nn as nn\n",
    "import torch.nn.functional as F\n",
    "import torch.optim as optim"
   ]
  },
  {
   "cell_type": "code",
   "execution_count": 10,
   "metadata": {},
   "outputs": [],
   "source": [
    "def Eval_LSTM(X, Y, lstm):\n",
    "    num_correct = 0\n",
    "    for i in range(len(X)):\n",
    "        logProbs = lstm.forward(X[i], train=False)\n",
    "        pred = torch.argmax(logProbs)\n",
    "        if pred == int(Y[i]):\n",
    "            num_correct += 1\n",
    "    print(\"Accuracy: %s\" % (float(num_correct) / float(len(X))))"
   ]
  },
  {
   "cell_type": "code",
   "execution_count": 19,
   "metadata": {},
   "outputs": [],
   "source": [
    "class LSTM(nn.Module):\n",
    "    def __init__(self, X, Y,NUM_CLASSES=20):\n",
    "        super(LSTM, self).__init__()\n",
    "        self.lstm = nn.LSTM(1024,20)\n",
    "        self.hidden = (torch.randn(1, 1, 20),\n",
    "                  torch.randn(1, 1, 20))\n",
    "\n",
    "    def forward(self, X, train=False):\n",
    "        #TODO: Implement forward computation\n",
    "        X = X.view(1,1,-1).float()\n",
    "        #X = torch.DoubleTensor(X)\n",
    "        #print(X)\n",
    "        out, self.hidden = self.lstm(X, self.hidden)\n",
    "        return out"
   ]
  },
  {
   "cell_type": "code",
   "execution_count": 22,
   "metadata": {},
   "outputs": [],
   "source": [
    "def Train_LSTM(X, Y,n_iter):\n",
    "    print(\"Start Training!\")\n",
    "    lstm = LSTM(X, Y)\n",
    "    #TODO: initialize optimizer.\n",
    "    #optimizer = optim.SGD(mlp.parameters(), lr=.01)\n",
    "    optimizer = optim.Adam(lstm.parameters(), lr=1e-5)\n",
    "    Loss = torch.nn.CrossEntropyLoss()\n",
    "\n",
    "    for epoch in range(n_iter):\n",
    "        total_loss = 0.0\n",
    "        for i in range(len(X)):\n",
    "            #TODO: compute gradients, do parameter update, compute loss.\n",
    "            lstm.zero_grad()\n",
    "            probs = lstm.forward(X[i])\n",
    "            probs = probs.squeeze(0)\n",
    "            y = float(Y[i])\n",
    "            loss = Loss(probs,torch.Tensor([y]).long())\n",
    "            total_loss += loss\n",
    "            loss.backward(retain_graph=True)\n",
    "            lstm.hidden[0].detach_()\n",
    "            lstm.hidden[1].detach_()\n",
    "            optimizer.step()\n",
    "            \n",
    "        print(f\"loss on epoch {epoch} = {total_loss}\")\n",
    "    return lstm"
   ]
  },
  {
   "cell_type": "code",
   "execution_count": null,
   "metadata": {},
   "outputs": [
    {
     "name": "stdout",
     "output_type": "stream",
     "text": [
      "Start Training!\n",
      "loss on epoch 0 = 1159363.375\n",
      "loss on epoch 1 = 1121209.25\n"
     ]
    }
   ],
   "source": [
    "train_tensor = torch.from_numpy(train_whole)\n",
    "lstm = Train_LSTM(train_tensor, train_labels,25)"
   ]
  },
  {
   "cell_type": "code",
   "execution_count": 11,
   "metadata": {},
   "outputs": [
    {
     "name": "stdout",
     "output_type": "stream",
     "text": [
      "Accuracy: 0.2833\n"
     ]
    }
   ],
   "source": [
    "X_test = torch.from_numpy(test_twts)\n",
    "Eval_LSTM(X_test, test_labels, lstm)"
   ]
  },
  {
   "cell_type": "code",
   "execution_count": null,
   "metadata": {},
   "outputs": [],
   "source": []
  },
  {
   "cell_type": "code",
   "execution_count": null,
   "metadata": {},
   "outputs": [],
   "source": []
  },
  {
   "cell_type": "code",
   "execution_count": null,
   "metadata": {},
   "outputs": [],
   "source": []
  }
 ],
 "metadata": {
  "kernelspec": {
   "display_name": "Python 3",
   "language": "python",
   "name": "python3"
  },
  "language_info": {
   "codemirror_mode": {
    "name": "ipython",
    "version": 3
   },
   "file_extension": ".py",
   "mimetype": "text/x-python",
   "name": "python",
   "nbconvert_exporter": "python",
   "pygments_lexer": "ipython3",
   "version": "3.7.4"
  }
 },
 "nbformat": 4,
 "nbformat_minor": 2
}
